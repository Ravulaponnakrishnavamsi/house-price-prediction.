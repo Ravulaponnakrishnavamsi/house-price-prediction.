{
 "cells": [
  {
   "cell_type": "code",
   "execution_count": 1,
   "metadata": {},
   "outputs": [],
   "source": [
    "import streamlit as st\n",
    "import pandas as pd \n",
    "import numpy as np\n",
    "import matplotlib.pyplot as plt\n",
    "def genarate_house_data(n,n_samples=100):\n",
    "    n.random.seed(50)\n",
    "    size=np.random.normal(1400,50,n_samples)\n",
    "    price=size * 50 +np.random.normal(0,50,n_samples)\n",
    "    return pd.DataFrame({'size':size,'price':price})\n",
    "\n",
    "\n",
    "\n",
    "from sklearn.model_selection import train_test_split\n",
    "from sklearn.metrics import mean_absolute_error\n",
    "from sklearn.linear_model import LinearRegression\n",
    "\n",
    "\n",
    "def train_model():\n",
    "    df=genarate_house_data(n_samples=100)\n",
    "    X=[['size']]\n",
    "    y=['price']\n",
    "    x_train,x_test,y_train,y_test=train_test_split(x,y,test_size=0.2,random_state=43)\n",
    "    model=LinearRegression()\n",
    "    model.fit(x_train,y_train)\n",
    "    return model\n",
    "def main():\n",
    "    st.write('House Prediction App')\n",
    "    st.write('Enter your Size of House')\n",
    "    model=train_model()\n",
    "\n",
    "    size=st.number_input('House Size',min_value=100,max_value=1000,value=1000)\n",
    "    if st.button('Predict Price'):\n",
    "        Predictd_price=model.predict([[size]])\n",
    "        st.success(f'Estimated Prices : ${Predictd_price[0]:,.2f}')\n",
    "        df=genarate_house_data()\n",
    "\n",
    "        fig=plt.scatter(df,x='size',y=\"price\",title='size and House Price')\n",
    "        fig.add_scatter(x=[size],y=[Predictd_price[0]],mode='markers',markers=dict(size=15,color='red'),name='prediction')\n",
    "        st.plotly_chart(fig)\n",
    "        \n"
   ]
  }
 ],
 "metadata": {
  "kernelspec": {
   "display_name": "base",
   "language": "python",
   "name": "python3"
  },
  "language_info": {
   "codemirror_mode": {
    "name": "ipython",
    "version": 3
   },
   "file_extension": ".py",
   "mimetype": "text/x-python",
   "name": "python",
   "nbconvert_exporter": "python",
   "pygments_lexer": "ipython3",
   "version": "3.12.4"
  }
 },
 "nbformat": 4,
 "nbformat_minor": 2
}
